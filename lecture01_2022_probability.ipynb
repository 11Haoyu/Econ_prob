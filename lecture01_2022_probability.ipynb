{
 "cells": [
  {
   "cell_type": "markdown",
   "metadata": {},
   "source": [
    "# Probability\n"
   ]
  },
  {
   "cell_type": "markdown",
   "metadata": {},
   "source": [
    "## Probability Space\n",
    "\n",
    "\n",
    "A *sample space* $\\Omega$ is a collection of all possible outcomes. It is a set of things.\n",
    "\n",
    "An *event* $A$ is a subset of $\\Omega$. It is something of interest on the sample space.\n",
    "\n",
    "A $\\sigma$-*field* is a complete set of events that includes all countably finite unions, interactions, and differences.\n",
    "It is a well-organized structure built on the sample space. "
   ]
  },
  {
   "cell_type": "markdown",
   "metadata": {},
   "source": [
    "\n",
    "A *probability measure* satisfies\n",
    "\n",
    "* (positiveness) $P\\left(A\\right)\\geq0$ for all events;\n",
    "* (countable additivity) if $A_{i}$, $i\\in\\mathbb{N}$, are \n",
    "are mutually disjoint, then\n",
    "$P\\left(\\bigcup_{i\\in\\mathbb{N}}A_{i}\\right)=\\sum_{i\\in\\mathbb{N}}\\mu\\left(A_{i}\\right).$\n",
    "* $P(\\Omega) = 1$.\n",
    "\n"
   ]
  },
  {
   "cell_type": "markdown",
   "metadata": {},
   "source": [
    "\n",
    "**Example**: (probability measure) Personal wealth management: asset allocation.\n",
    "A probability function is not necessarily about uncertainty. Two allocation rules: 1. Equal weight. 2. Optimal weight.\n",
    "\n",
    "So far we have answered the question: \"What is a well-defined probability?\", but we have not yet\n",
    "answered \"How to assign the probability?\"\n",
    "\n",
    "There are two major schools of thinking on probability assignement. One is\n",
    "*frequentist*, who considers probability as the average chance of occurrence if a large number of experiments\n",
    "are carried out. The other is *Bayesian*, who deems probability as a subjective brief.\n",
    "The principles of these two schools are largely incompatible, while each school has\n",
    "peculiar merit under different context."
   ]
  },
  {
   "cell_type": "markdown",
   "metadata": {},
   "source": [
    "## Random Variable\n",
    "\n",
    "*Random variable* maps events to a real number. If the outcome is multivariate, we call it a *random vector*.\n"
   ]
  },
  {
   "cell_type": "markdown",
   "metadata": {},
   "source": [
    "**Data example**\n",
    "\n",
    "Data source: [HK top 300 Youtubers](https://www.kaggle.com/datasets/patriotboy112/hks-top-300-youtubers). We look at the number of uploaded videos in these accounts."
   ]
  },
  {
   "cell_type": "code",
   "execution_count": 59,
   "metadata": {
    "vscode": {
     "languageId": "r"
    }
   },
   "outputs": [
    {
     "name": "stderr",
     "output_type": "stream",
     "text": [
      "\u001b[1mRows: \u001b[22m\u001b[34m300\u001b[39m \u001b[1mColumns: \u001b[22m\u001b[34m7\u001b[39m\n",
      "\u001b[36m--\u001b[39m \u001b[1mColumn specification\u001b[22m \u001b[36m--------------------------------------------------------\u001b[39m\n",
      "\u001b[1mDelimiter:\u001b[22m \",\"\n",
      "\u001b[31mchr\u001b[39m (2): Youtuber, category\n",
      "\u001b[32mdbl\u001b[39m (2): rank, started\n",
      "\n",
      "\u001b[36mi\u001b[39m Use `spec()` to retrieve the full column specification for this data.\n",
      "\u001b[36mi\u001b[39m Specify the column types or set `show_col_types = FALSE` to quiet this message.\n"
     ]
    },
    {
     "name": "stdout",
     "output_type": "stream",
     "text": [
      "\u001b[90m# A tibble: 300 x 7\u001b[39m\n",
      "    rank Youtuber       subscribers `video views` `video count` category started\n",
      "   \u001b[3m\u001b[90m<dbl>\u001b[39m\u001b[23m \u001b[3m\u001b[90m<chr>\u001b[39m\u001b[23m                \u001b[3m\u001b[90m<dbl>\u001b[39m\u001b[23m         \u001b[3m\u001b[90m<dbl>\u001b[39m\u001b[23m         \u001b[3m\u001b[90m<dbl>\u001b[39m\u001b[23m \u001b[3m\u001b[90m<chr>\u001b[39m\u001b[23m      \u001b[3m\u001b[90m<dbl>\u001b[39m\u001b[23m\n",
      "\u001b[90m 1\u001b[39m     1 Shadow MusicS~     7\u001b[4m6\u001b[24m\u001b[4m9\u001b[24m\u001b[4m0\u001b[24m000    \u001b[4m3\u001b[24m665\u001b[4m9\u001b[24m\u001b[4m7\u001b[24m\u001b[4m0\u001b[24m114          \u001b[4m1\u001b[24m144 People ~    \u001b[4m2\u001b[24m017\n",
      "\u001b[90m 2\u001b[39m     2 Emi WongEmi W~     4\u001b[4m8\u001b[24m\u001b[4m7\u001b[24m\u001b[4m0\u001b[24m000     607\u001b[4m6\u001b[24m\u001b[4m5\u001b[24m\u001b[4m6\u001b[24m993           390 People ~    \u001b[4m2\u001b[24m014\n",
      "\u001b[90m 3\u001b[39m     3 iQIYI <U+7231><U+5947><U+827A>i~     4\u001b[4m0\u001b[24m\u001b[4m1\u001b[24m\u001b[4m0\u001b[24m000    \u001b[4m1\u001b[24m744\u001b[4m5\u001b[24m\u001b[4m5\u001b[24m\u001b[4m2\u001b[24m001          \u001b[4m9\u001b[24m740 Film & ~    \u001b[4m2\u001b[24m015\n",
      "\u001b[90m 4\u001b[39m     4 South China M~     2\u001b[4m6\u001b[24m\u001b[4m5\u001b[24m\u001b[4m0\u001b[24m000    \u001b[4m2\u001b[24m612\u001b[4m2\u001b[24m\u001b[4m6\u001b[24m\u001b[4m5\u001b[24m071         \u001b[4m1\u001b[24m\u001b[4m1\u001b[24m376 News & ~    \u001b[4m2\u001b[24m007\n",
      "\u001b[90m 5\u001b[39m     5 GEM<U+9127><U+7D2B><U+68CB>GEM~      2\u001b[4m5\u001b[24m\u001b[4m2\u001b[24m\u001b[4m0\u001b[24m000    \u001b[4m1\u001b[24m752\u001b[4m1\u001b[24m\u001b[4m1\u001b[24m\u001b[4m1\u001b[24m944            77 People ~    \u001b[4m2\u001b[24m019\n",
      "\u001b[90m 6\u001b[39m     6 Ani-One<U+52D5><U+6F2B><U+5C08>~     2\u001b[4m0\u001b[24m\u001b[4m2\u001b[24m\u001b[4m0\u001b[24m000     238\u001b[4m9\u001b[24m\u001b[4m5\u001b[24m\u001b[4m9\u001b[24m467          \u001b[4m2\u001b[24m026 Film & ~    \u001b[4m2\u001b[24m016\n",
      "\u001b[90m 7\u001b[39m     7 <U+860B><U+679C><U+52D5><U+65B0><U+805E> HK~     1\u001b[4m8\u001b[24m\u001b[4m8\u001b[24m\u001b[4m0\u001b[24m000    \u001b[4m1\u001b[24m580\u001b[4m4\u001b[24m\u001b[4m3\u001b[24m\u001b[4m8\u001b[24m690         \u001b[4m7\u001b[24m\u001b[4m0\u001b[24m586 News & ~    \u001b[4m2\u001b[24m007\n",
      "\u001b[90m 8\u001b[39m     8 Nikmatul Rosi~     1\u001b[4m5\u001b[24m\u001b[4m9\u001b[24m\u001b[4m0\u001b[24m000     384\u001b[4m8\u001b[24m\u001b[4m4\u001b[24m\u001b[4m1\u001b[24m124          \u001b[4m1\u001b[24m697 People ~    \u001b[4m2\u001b[24m013\n",
      "\u001b[90m 9\u001b[39m     9 Kento BentoKe~     1\u001b[4m5\u001b[24m\u001b[4m8\u001b[24m\u001b[4m0\u001b[24m000     137\u001b[4m4\u001b[24m\u001b[4m1\u001b[24m\u001b[4m0\u001b[24m428            38 Educati~    \u001b[4m2\u001b[24m015\n",
      "\u001b[90m10\u001b[39m    10 ApronApron         1\u001b[4m5\u001b[24m\u001b[4m2\u001b[24m\u001b[4m0\u001b[24m000     182\u001b[4m8\u001b[24m\u001b[4m0\u001b[24m\u001b[4m3\u001b[24m329           346 Howto &~    \u001b[4m2\u001b[24m012\n",
      "\u001b[90m# ... with 290 more rows\u001b[39m\n"
     ]
    }
   ],
   "source": [
    "d0 = readr::read_csv(\"HKTop300YouTubers.csv\")\n",
    "print(d0)\n",
    "\n",
    "library(magrittr)\n",
    "\n",
    "# remove NA and zeros\n",
    "d0[ d0 == 0 ] <- NA\n",
    "sel <- d0 %>% is.na( ) %>% apply( 1, any)\n",
    "d0 %<>% dplyr::filter( !sel )\n",
    "\n",
    "d1 <- d0 %>% dplyr::select(3:5)\n",
    "names(d1) <- c(\"subs\", \"view\", \"count\")\n"
   ]
  },
  {
   "cell_type": "code",
   "execution_count": 60,
   "metadata": {
    "vscode": {
     "languageId": "r"
    }
   },
   "outputs": [
    {
     "name": "stdout",
     "output_type": "stream",
     "text": [
      "  [1]  1144   390  9740 11376    77  2026 70586  1697    38   346  3370   162\n",
      " [13]  1734   138   843  2799   984  3126 30324   510 31372 15326   898  2035\n",
      " [25]    91    90  2358   174 13507   355   184    43  5014  4733   698  1088\n",
      " [37]  2260  1202   950   255   335    17   156   371   161 34611 10099  8998\n",
      " [49]  1204  1222   295   456  1667 10411    91    96    99   804   224   280\n",
      " [61]   658   316  3023  3734   161  3190  1490  3725  2408  3311   275   138\n",
      " [73]  3376   124   188   466   599  2767   142   635  1516   928   587   246\n",
      " [85]   273   570  2803   578  1456   162  4251     4  1080   754    70   200\n",
      " [97]  7750  4090   312   206   932   171   349    94   629   203  2671  1729\n",
      "[109]  5867  2216   297   285   148   988 11673  5119   972   247   532   728\n",
      "[121]   354   350   353   630   280   602  2596   205   252    24   286   147\n",
      "[133]  7929   182   610   133   143   390  1916   755    54  1426   823   243\n",
      "[145]   583    84   380   220   324   216   162   240    29   557   217   124\n",
      "[157]   789  1090   103   123   153    15  1494   336   515   146    95    55\n",
      "[169]   187  7622    93   670   964  2868   547   472   303   191    47   126\n",
      "[181]   283  1374  1158   179  2334   177   564   219  1010   297   210   487\n",
      "[193]   365  1192  2379   323    19  3888 12215   365  1577   202    76  1267\n",
      "[205]    47   304  8753   309  1107   146   228   184   101   170   149  3888\n",
      "[217]   147   338   466  1221  5660   641   301  1178   763   450    31   182\n",
      "[229]   333  5056   213  4485   709   384   216  4491    85     7   567  1726\n",
      "[241]   598   182   483   159    71    21   340  4796   304   121    87   202\n",
      "[253]   545    60    84   109  8801    49    29    60   488   225   332    67\n",
      "[265]  2174   311   496  2744   654   150    13   127    54   835   119   395\n",
      "[277]   137     2     8   863   148   938  2357  7542   552    80   156   323\n",
      "[289]   147\n"
     ]
    }
   ],
   "source": [
    "print( d1[[\"count\"]] )"
   ]
  },
  {
   "cell_type": "code",
   "execution_count": 61,
   "metadata": {
    "vscode": {
     "languageId": "r"
    }
   },
   "outputs": [
    {
     "data": {
      "image/png": "[encoded data removed]",
      "text/plain": [
       "Plot with title \"Histogram of d1[[\"count\"]]\""
      ]
     },
     "metadata": {
      "image/png": {
       "height": 420,
       "width": 420
      }
     },
     "output_type": "display_data"
    }
   ],
   "source": [
    "hist(d1[[\"count\"]])"
   ]
  },
  {
   "cell_type": "code",
   "execution_count": 62,
   "metadata": {
    "vscode": {
     "languageId": "r"
    }
   },
   "outputs": [
    {
     "data": {
      "image/png": "[encoded data removed]",
      "text/plain": [
       "Plot with title \"Histogram of d1.log[[\"count\"]]\""
      ]
     },
     "metadata": {
      "image/png": {
       "height": 420,
       "width": 420
      }
     },
     "output_type": "display_data"
    }
   ],
   "source": [
    "d1.log <- log(d1)\n",
    "hist(d1.log[[\"count\"]])"
   ]
  },
  {
   "cell_type": "markdown",
   "metadata": {},
   "source": [
    "## Distribution Function\n",
    "\n",
    "We go back to some terms that we have learned in a undergraduate\n",
    "probability course. A *(cumulative) distribution function*\n",
    "$F:\\mathbb{R}\\mapsto [0,1]$ is defined as\n",
    "$$F\\left(x\\right)=P\\left(X\\leq x\\right)=\n",
    "P\\left(\\{X\\leq x\\}\\right).$$\n",
    "It is often abbreviated as CDF, and it has the following properties.\n",
    "\n",
    "* $\\lim_{x\\to-\\infty}F\\left(x\\right)=0$,\n",
    "* $\\lim_{x\\to\\infty}F\\left(x\\right)=1$,\n",
    "* non-decreasing,\n",
    "* right-continuous $\\lim_{y\\to x^{+}}F\\left(y\\right)=F\\left(x\\right).$"
   ]
  },
  {
   "cell_type": "code",
   "execution_count": 63,
   "metadata": {
    "vscode": {
     "languageId": "r"
    }
   },
   "outputs": [
    {
     "data": {
      "image/png": "[encoded data removed]",
      "text/plain": [
       "Plot with title \"ecdf(d1.log[[\"count\"]])\""
      ]
     },
     "metadata": {
      "image/png": {
       "height": 420,
       "width": 420
      }
     },
     "output_type": "display_data"
    }
   ],
   "source": [
    "plot(ecdf(d1.log[[\"count\"]]), verticals = TRUE, do.points = FALSE)"
   ]
  },
  {
   "cell_type": "markdown",
   "metadata": {},
   "source": [
    "Add the definitions of quantiles"
   ]
  },
  {
   "cell_type": "code",
   "execution_count": 64,
   "metadata": {
    "vscode": {
     "languageId": "r"
    }
   },
   "outputs": [
    {
     "data": {
      "text/html": [
       "<style>\n",
       ".dl-inline {width: auto; margin:0; padding: 0}\n",
       ".dl-inline>dt, .dl-inline>dd {float: none; width: auto; display: inline-block}\n",
       ".dl-inline>dt::after {content: \":\\0020\"; padding-right: .5ex}\n",
       ".dl-inline>dt:not(:first-of-type) {padding-left: .5ex}\n",
       "</style><dl class=dl-inline><dt>25%</dt><dd>5.08759633523238</dd><dt>50%</dt><dd>5.89989735358249</dd><dt>75%</dt><dd>7.1074254741107</dd><dt>100%</dt><dd>11.1645871035339</dd></dl>\n"
      ],
      "text/latex": [
       "\\begin{description*}\n",
       "\\item[25\\textbackslash{}\\%] 5.08759633523238\n",
       "\\item[50\\textbackslash{}\\%] 5.89989735358249\n",
       "\\item[75\\textbackslash{}\\%] 7.1074254741107\n",
       "\\item[100\\textbackslash{}\\%] 11.1645871035339\n",
       "\\end{description*}\n"
      ],
      "text/markdown": [
       "25%\n",
       ":   5.0875963352323850%\n",
       ":   5.8998973535824975%\n",
       ":   7.1074254741107100%\n",
       ":   11.1645871035339\n",
       "\n"
      ],
      "text/plain": [
       "      25%       50%       75%      100% \n",
       " 5.087596  5.899897  7.107425 11.164587 "
      ]
     },
     "metadata": {},
     "output_type": "display_data"
    }
   ],
   "source": [
    "quantile(d1.log[[\"count\"]], probs = 1:4/4 )"
   ]
  },
  {
   "cell_type": "markdown",
   "metadata": {},
   "source": [
    "\n",
    "For continuous distribution, if there exists a function $f$ such that for all $x$,\n",
    "$$F\\left(x\\right)=\\int_{-\\infty}^{x}f\\left(y\\right)dy,$$\n",
    " then $f$ is\n",
    "    called the *probability density function* of $X$, often abbreviated as PDF.\n",
    "It is easy to show that $f\\left(x\\right)\\geq0$ and\n",
    "    $\\int_{a}^{b}f\\left(x\\right)dx=F\\left(b\\right)-F\\left(a\\right)$.\n"
   ]
  },
  {
   "cell_type": "markdown",
   "metadata": {},
   "source": [
    "\n",
    "**Example** We have learned many parametric distributions like the binary distribution, the Poisson distribution,\n",
    "the uniform distribution, the normal distribution, $\\chi^{2}$, $t$, $F$ and so on.\n",
    "They are parametric distributions, meaning that the CDF or PDF can be completely\n",
    "characterized by a few parameters.\n"
   ]
  },
  {
   "cell_type": "markdown",
   "metadata": {},
   "source": [
    "\n",
    "**Example** `R` has a rich collection of distributions implemented in a unified rule:\n",
    "`d` for density, `p` for probability, `q` for quantile, and `r` for random variable generation.\n",
    "For instance, `dnorm`, `pnorm`, `qnorm`, and `rnorm` are the corresponding functions of the normal distribution, and the parameters $\\mu$ and $\\sigma$ can be specified in the arguments of the functions.\n"
   ]
  },
  {
   "cell_type": "code",
   "execution_count": 65,
   "metadata": {
    "vscode": {
     "languageId": "r"
    }
   },
   "outputs": [
    {
     "data": {
      "text/html": [
       "1.95996398454005"
      ],
      "text/latex": [
       "1.95996398454005"
      ],
      "text/markdown": [
       "1.95996398454005"
      ],
      "text/plain": [
       "[1] 1.959964"
      ]
     },
     "metadata": {},
     "output_type": "display_data"
    }
   ],
   "source": [
    "qnorm(0.975)"
   ]
  },
  {
   "cell_type": "code",
   "execution_count": 66,
   "metadata": {
    "vscode": {
     "languageId": "r"
    }
   },
   "outputs": [
    {
     "data": {
      "text/html": [
       "0.5"
      ],
      "text/latex": [
       "0.5"
      ],
      "text/markdown": [
       "0.5"
      ],
      "text/plain": [
       "[1] 0.5"
      ]
     },
     "metadata": {},
     "output_type": "display_data"
    }
   ],
   "source": [
    "pnorm(0)"
   ]
  },
  {
   "cell_type": "code",
   "execution_count": 67,
   "metadata": {
    "vscode": {
     "languageId": "r"
    }
   },
   "outputs": [
    {
     "data": {
      "text/html": [
       "0.398942280401433"
      ],
      "text/latex": [
       "0.398942280401433"
      ],
      "text/markdown": [
       "0.398942280401433"
      ],
      "text/plain": [
       "[1] 0.3989423"
      ]
     },
     "metadata": {},
     "output_type": "display_data"
    }
   ],
   "source": [
    "dnorm(0)"
   ]
  },
  {
   "cell_type": "code",
   "execution_count": 68,
   "metadata": {
    "vscode": {
     "languageId": "r"
    }
   },
   "outputs": [
    {
     "data": {
      "text/html": [
       "<style>\n",
       ".list-inline {list-style: none; margin:0; padding: 0}\n",
       ".list-inline>li {display: inline-block}\n",
       ".list-inline>li:not(:last-child)::after {content: \"\\00b7\"; padding: 0 .5ex}\n",
       "</style>\n",
       "<ol class=list-inline><li>-0.53496207096777</li><li>0.253050483175786</li><li>-2.43176185735526</li></ol>\n"
      ],
      "text/latex": [
       "\\begin{enumerate*}\n",
       "\\item -0.53496207096777\n",
       "\\item 0.253050483175786\n",
       "\\item -2.43176185735526\n",
       "\\end{enumerate*}\n"
      ],
      "text/markdown": [
       "1. -0.53496207096777\n",
       "2. 0.253050483175786\n",
       "3. -2.43176185735526\n",
       "\n",
       "\n"
      ],
      "text/plain": [
       "[1] -0.5349621  0.2530505 -2.4317619"
      ]
     },
     "metadata": {},
     "output_type": "display_data"
    }
   ],
   "source": [
    "rnorm(3)"
   ]
  },
  {
   "cell_type": "code",
   "execution_count": 69,
   "metadata": {
    "vscode": {
     "languageId": "r"
    }
   },
   "outputs": [
    {
     "data": {
      "text/html": [
       "<style>\n",
       ".list-inline {list-style: none; margin:0; padding: 0}\n",
       ".list-inline>li {display: inline-block}\n",
       ".list-inline>li:not(:last-child)::after {content: \"\\00b7\"; padding: 0 .5ex}\n",
       "</style>\n",
       "<ol class=list-inline><li>2</li><li>5</li></ol>\n"
      ],
      "text/latex": [
       "\\begin{enumerate*}\n",
       "\\item 2\n",
       "\\item 5\n",
       "\\end{enumerate*}\n"
      ],
      "text/markdown": [
       "1. 2\n",
       "2. 5\n",
       "\n",
       "\n"
      ],
      "text/plain": [
       "[1] 2 5"
      ]
     },
     "metadata": {},
     "output_type": "display_data"
    }
   ],
   "source": [
    "rpois(2, 5)"
   ]
  },
  {
   "cell_type": "markdown",
   "metadata": {},
   "source": [
    "\n",
    "Below is a piece of `R` code for demonstration.\n",
    "\n",
    "1. Plot the density of standard normal distribution over an equally spaced grid system `x_axis = seq(-3, 3, by = 0.01)` (black line).\n",
    "2. Generate 1000 observations for $N(0,1)$. Plot the kernel density, a nonparametric estimation of the density (red line).\n",
    "3. Calculate the 95th quantile and the empirical probability of observing a value greater than the 95th quantile.\n",
    "In population, this value is 5%. What is the number coming out of this experiment?\n",
    "\n",
    "(Since we do not fix the random seed in the computer, the outcome is slightly different each time we run the code.)"
   ]
  },
  {
   "cell_type": "markdown",
   "metadata": {},
   "source": [
    "# Expected Value\n",
    "\n"
   ]
  },
  {
   "cell_type": "markdown",
   "metadata": {},
   "source": [
    "## Integration\n",
    "\n",
    "An integral\n",
    "$\\int X\\mathrm{d}P$ is called the *expected value,* or\n",
    "*expectation,* of $X$. We often use the notation\n",
    "$E\\left[X\\right]$, instead of $\\int X\\mathrm{d}P$, for convenience.\n",
    "\n",
    "Expectation provides the average of a random variable,\n",
    "despite that we cannot foresee the realization of a random variable in a particular trial\n",
    "(otherwise the study of uncertainty is trivial). In the frequentist's view,\n",
    "the expectation is the average outcome if we carry out a large number of independent\n",
    "trials.\n",
    "\n",
    "If we know the probability mass function of a discrete random variable, its expectation\n",
    "is calculated as $E\\left[X\\right]=\\sum_{x}xP\\left(X=x\\right)$, which is\n",
    "the integral of a simple function.\n",
    "If a continuous random variable has a PDF $f(x)$, its expectation\n",
    "can be computed as  $E\\left[X\\right]=\\int xf\\left(x\\right)\\mathrm{d}x$.\n",
    "\n",
    "\n"
   ]
  },
  {
   "cell_type": "code",
   "execution_count": 70,
   "metadata": {
    "vscode": {
     "languageId": "r"
    }
   },
   "outputs": [
    {
     "data": {
      "text/html": [
       "6.14638913572936"
      ],
      "text/latex": [
       "6.14638913572936"
      ],
      "text/markdown": [
       "6.14638913572936"
      ],
      "text/plain": [
       "[1] 6.146389"
      ]
     },
     "metadata": {},
     "output_type": "display_data"
    }
   ],
   "source": [
    "mean( d1.log[[\"count\"]] )"
   ]
  },
  {
   "cell_type": "markdown",
   "metadata": {},
   "source": [
    "\n",
    "Here are some properties of the expectation.\n",
    "\n",
    "\n",
    "-  The probability of an event $A$ is the expectation\n",
    "of an indicator function. $E\\left[1\\left\\{ A\\right\\}  \\right]= 1\\times P(A) + 0 \\times P(A^c) =P\\left(A\\right)$.\n",
    "\n",
    "-   $E\\left[X^{r}\\right]$ is call the $r$-moment of $X$. The *mean* of a random variable is the first moment $\\mu=E\\left[X\\right]$, and\n",
    "the second *centered* moment is called the *variance*\n",
    "$\\mathrm{var}\\left[X\\right]=E\\left[\\left(X-\\mu\\right)^{2}\\right]$."
   ]
  },
  {
   "cell_type": "code",
   "execution_count": 71,
   "metadata": {
    "vscode": {
     "languageId": "r"
    }
   },
   "outputs": [
    {
     "data": {
      "text/html": [
       "2.65077090355928"
      ],
      "text/latex": [
       "2.65077090355928"
      ],
      "text/markdown": [
       "2.65077090355928"
      ],
      "text/plain": [
       "[1] 2.650771"
      ]
     },
     "metadata": {},
     "output_type": "display_data"
    }
   ],
   "source": [
    "var(d1.log[[\"count\"]])"
   ]
  },
  {
   "cell_type": "markdown",
   "metadata": {},
   "source": [
    "\n",
    "The third centered moment $E\\left[\\left(X-\\mu\\right)^{3}\\right]$,\n",
    "called *skewness*, is a measurement of the\n",
    "symmetry of a random variable, and the fourth centered moment\n",
    "    $E\\left[\\left(X-\\mu\\right)^{4}\\right]$, called *kurtosis*, is\n",
    "     a measurement of the tail thickness.\n",
    "\n",
    "- We call\n",
    "    $E\\left[\\left(X-\\mu\\right)^{3}\\right]/\\sigma^{3}$ the *skewness coefficient*, and\n",
    "    $E\\left[\\left(X-\\mu\\right)^{4}\\right]/\\sigma^{4}-3$ *degree of excess*. A normal distribution's  skewness and  degree of excess are both zero.\n",
    "\n",
    "    -   **Application**: [The formula that killed Wall\n",
    "        Street](http://archive.wired.com/techbiz/it/magazine/17-03/wp_quant?currentPage=all)\n",
    "\n",
    "- Moments do not always exist. For example, the mean of the Cauchy distribution does not exist,\n",
    "and the variance of the $t(2)$ distribution does not exist.\n",
    "\n",
    "- $E[\\cdot]$ is a linear operation. If $\\phi(\\cdot)$ is a linear function, then $E[\\phi(X)] = \\phi(E[X]).$\n",
    "\n",
    "-   *Jensen's inequality* is an important fact.\n",
    "A function $\\varphi(\\cdot)$ is convex if\n",
    "$\\varphi( a x_1 + (1-a) x_2 ) \\leq a \\varphi(x_1) + (1-a) \\varphi(x_2)$ for all $x_1,x_2$\n",
    "in the domain and $a\\in[0,1]$. For instance, $x^2$ is a convex function.\n",
    "Jensen's inequality says that if $\\varphi\\left(\\cdot\\right)$ is a convex\n",
    "    function, then\n",
    "    $\\varphi\\left(E\\left[X\\right]\\right)\\leq E\\left[\\varphi\\left(X\\right)\\right].$\n"
   ]
  },
  {
   "cell_type": "markdown",
   "metadata": {},
   "source": [
    "*Markov inequality* is another simple but important fact. If $E\\left[\\left|X\\right|^{r}\\right]$ exists,\n",
    "    then\n",
    "    $P\\left(\\left|X\\right|>\\epsilon\\right)\\leq E\\left[\\left|X\\right|^{r}\\right]/\\epsilon^{r}$\n",
    "    for all $r\\geq1$. *Chebyshev inequality* $P\\left(\\left|X\\right|>\\epsilon\\right)\\leq E\\left[X^{2}\\right]/\\epsilon^{2}$\n",
    "    is a special case of the Markov inequality when $r=2$.\n"
   ]
  },
  {
   "cell_type": "markdown",
   "metadata": {},
   "source": [
    "# Multivariate Random Variable\n",
    "\n",
    "A bivariate random variable is a\n",
    "measurable function $X:\\Omega\\mapsto\\mathbb{R}^{2}$, and more generally a multivariate random\n",
    "variable is a measurable function $X:\\Omega\\mapsto\\mathbb{R}^{n}$.\n",
    "We can define the *joint CDF* as\n",
    "$F\\left(x_{1},\\ldots,x_{n}\\right)=P\\left(X_{1}\\leq x_{1},\\ldots,X_{n}\\leq x_{n}\\right)$.\n",
    "Joint PDF is defined similarly."
   ]
  },
  {
   "cell_type": "code",
   "execution_count": 72,
   "metadata": {
    "vscode": {
     "languageId": "r"
    }
   },
   "outputs": [
    {
     "data": {
      "image/png": "[encoded data removed]",
      "text/plain": [
       "plot without title"
      ]
     },
     "metadata": {
      "image/png": {
       "height": 420,
       "width": 420
      }
     },
     "output_type": "display_data"
    }
   ],
   "source": [
    "plot(d1.log$subs, d1.log$view )"
   ]
  },
  {
   "cell_type": "markdown",
   "metadata": {},
   "source": [
    "\n",
    "It is sufficient to introduce the joint distribution, conditional distribution\n",
    "and marginal distribution in the simple bivariate case, and these definitions\n",
    "can be extended to multivariate distributions. Suppose\n",
    "a bivariate random variable $(X,Y)$ has a joint density\n",
    "$f(\\cdot,\\cdot)$.\n",
    "The  *conditional density* can be roughly written as  $f\\left(y|x\\right)=f\\left(x,y\\right)/f\\left(x\\right)$ if we do not formally deal\n",
    "with the case $f(x)=0$.\n",
    "The *marginal density* $f\\left(y\\right)=\\int f\\left(x,y\\right)dx$ integrates out\n",
    "the coordinate that is not interested."
   ]
  },
  {
   "cell_type": "markdown",
   "metadata": {},
   "source": [
    "## Independence\n",
    "\n",
    "In a probability space $(\\Omega, \\mathcal{F}, P)$, for two events $A_1,A_2\\in \\mathcal{F}$ the *conditional probability* is\n",
    "\n",
    "$$P\\left(A_1|A_2\\right) = \\frac{P\\left(A_1 A_2\\right)}{ P\\left(A_2\\right) }.$$ \n",
    "\n",
    "In the definition of conditional probability, $A_2$ plays\n",
    "the role of the outcome space  so that\n",
    " $P(A_1 A_2)$ is standardized by the total mass $P(A_2)$.\n",
    "\n",
    "Since $A_1$ and $A_2$ are symmetric, we also have $P(A_1 A_2) = P(A_2|A_1)P(A_1)$.\n",
    "It implies\n",
    "$$P(A_1 | A_2)=\\frac{P\\left(A_2| A_1\\right)P\\left(A_1\\right)}{P\\left(A_2\\right)}$$\n",
    "This formula is the well-known *Bayes' Theorem*. It is particularly important in\n",
    "decision theory.\n"
   ]
  },
  {
   "cell_type": "markdown",
   "metadata": {},
   "source": [
    "\n",
    "**Example:** $A_1$ is the event \"a student can survive CUHK's MSc program\", and $A_2$ is\n",
    "his or her application profile.\n"
   ]
  },
  {
   "cell_type": "markdown",
   "metadata": {},
   "source": [
    "\n",
    "\n",
    "We say two events $A_1$ and $A_2$ are *independent* if $P(A_1A_2) = P(A_1)P(A_2)$.\n",
    "If $P(A_2) \\neq 0$, it is equivalent to $P(A_1 | A_2 ) = P(A_1)$.\n",
    "In words, knowing $A_2$ does not change the probability of $A_1$.\n",
    "\n",
    "If $X$ and $Y$ are independent, $E[XY] = E[X]E[Y]$.\n"
   ]
  },
  {
   "cell_type": "code",
   "execution_count": 73,
   "metadata": {
    "vscode": {
     "languageId": "r"
    }
   },
   "outputs": [
    {
     "data": {
      "image/png": "[encoded data removed]",
      "text/plain": [
       "plot without title"
      ]
     },
     "metadata": {
      "image/png": {
       "height": 420,
       "width": 420
      }
     },
     "output_type": "display_data"
    }
   ],
   "source": [
    "Y <- matrix( rnorm(200), ncol = 2)\n",
    "plot(x = Y[,1], y = Y[,2])"
   ]
  },
  {
   "cell_type": "code",
   "execution_count": 74,
   "metadata": {
    "vscode": {
     "languageId": "r"
    }
   },
   "outputs": [
    {
     "data": {
      "image/png": "[encoded data removed]",
      "text/plain": [
       "plot without title"
      ]
     },
     "metadata": {
      "image/png": {
       "height": 420,
       "width": 420
      }
     },
     "output_type": "display_data"
    }
   ],
   "source": [
    "Y <- matrix( rnorm(200), ncol = 2) %*% matrix( c(1, 0.5, 0.5, 1), 2 )\n",
    "plot(x = Y[,1], y = Y[,2])"
   ]
  },
  {
   "cell_type": "markdown",
   "metadata": {},
   "source": [
    "\n",
    "**Application**: (Chebyshev law of large numbers) If\n",
    "$X_{1},X_{2},\\ldots,X_{n}$ are independent, and they have the same mean\n",
    "$0$ and variance $\\sigma^{2}<\\infty$. Let\n",
    "$Z_{n}=\\frac{1}{n}\\sum_{i=1}^{n} X_{i}$. Then the\n",
    "probability $P\\left(\\left|Z_{n}\\right|>\\epsilon\\right)\\to0$ as\n",
    "$n\\to\\infty$.\n",
    "\n",
    "The culmination of probability theory is *law of large numbers* and\n",
    "*central limit theorem*."
   ]
  },
  {
   "cell_type": "markdown",
   "metadata": {},
   "source": [
    "## Law of Iterated Expectations\n"
   ]
  },
  {
   "cell_type": "markdown",
   "metadata": {},
   "source": [
    "\n",
    "\n",
    "In the bivariate case, if the conditional density exists, the conditional expectation can be computed as\n",
    "    $E\\left[Y|X\\right]=\\int yf\\left(y|X\\right)dy$.\n",
    "The law of iterated expectation implies $E\\left[E\\left[Y|X\\right]\\right]=E\\left[Y\\right]$.\n"
   ]
  },
  {
   "cell_type": "code",
   "execution_count": 75,
   "metadata": {
    "vscode": {
     "languageId": "r"
    }
   },
   "outputs": [
    {
     "name": "stdout",
     "output_type": "stream",
     "text": [
      "\u001b[90m# A tibble: 15 x 3\u001b[39m\n",
      "   category               mean    no\n",
      "   \u001b[3m\u001b[90m<chr>\u001b[39m\u001b[23m                 \u001b[3m\u001b[90m<dbl>\u001b[39m\u001b[23m \u001b[3m\u001b[90m<int>\u001b[39m\u001b[23m\n",
      "\u001b[90m 1\u001b[39m Autos & Vehicles       7.52     2\n",
      "\u001b[90m 2\u001b[39m Comedy                 5.74     8\n",
      "\u001b[90m 3\u001b[39m Education              6.29    10\n",
      "\u001b[90m 4\u001b[39m Entertainment          6.34    41\n",
      "\u001b[90m 5\u001b[39m Film & Animation       5.98    28\n",
      "\u001b[90m 6\u001b[39m Gaming                 6.43    28\n",
      "\u001b[90m 7\u001b[39m Howto & Style          5.71    31\n",
      "\u001b[90m 8\u001b[39m Music                  5.91    24\n",
      "\u001b[90m 9\u001b[39m News & Politics        8.13    22\n",
      "\u001b[90m10\u001b[39m Nonprofits & Activism  6.45     1\n",
      "\u001b[90m11\u001b[39m People & Blogs         5.72    68\n",
      "\u001b[90m12\u001b[39m Pets & Animals         6.19     1\n",
      "\u001b[90m13\u001b[39m Science & Technology   6.08     8\n",
      "\u001b[90m14\u001b[39m Sports                 6.14     5\n",
      "\u001b[90m15\u001b[39m Travel & Events        5.48    12\n",
      "[1] 6.146389\n",
      "[1] 6.146389\n"
     ]
    }
   ],
   "source": [
    "dx <- d1.log %>% \n",
    "  tibble::add_column(category = d0$category) %>%\n",
    "  dplyr::group_by(category) %>%\n",
    "  dplyr::summarize(mean = mean(count), no = dplyr::n() )\n",
    "print(dx)\n",
    "\n",
    "print( sum( dx$mean * ( dx$no/nrow(d1.log) ) ) ) # average over categories\n",
    "print( mean(d1.log[[\"count\"]])) # overall average"
   ]
  },
  {
   "cell_type": "markdown",
   "metadata": {},
   "source": [
    "\n",
    "\n",
    "Below are some properties of conditional expectations\n",
    "\n",
    "1.  $E\\left[E\\left[Y|X_{1},X_{2}\\right]|X_{1}\\right]=E\\left[Y|X_{1}\\right];$\n",
    "2.  $E\\left[E\\left[Y|X_{1}\\right]|X_{1},X_{2}\\right]=E\\left[Y|X_{1}\\right];$\n",
    "3.  $E\\left[h\\left(X\\right)Y|X\\right]=h\\left(X\\right)E\\left[Y|X\\right].$\n",
    "\n",
    "**Application**: Regression is a technique that decomposes a random variable $Y$\n",
    "into two parts, a conditional mean and a residual. Write\n",
    " $Y=E\\left[Y|X\\right]+\\epsilon$, where\n",
    "$\\epsilon=Y-E\\left[Y|X\\right]$. Show that $E[\\epsilon] = 0$ and  $E[\\epsilon E[Y|X] ] = 0$."
   ]
  }
 ],
 "metadata": {
  "kernelspec": {
   "display_name": "R [conda env:r]",
   "language": "R",
   "name": "conda-env-r-r"
  },
  "language_info": {
   "codemirror_mode": "r",
   "file_extension": ".r",
   "mimetype": "text/x-r-source",
   "name": "R",
   "pygments_lexer": "r",
   "version": "4.1.2"
  }
 },
 "nbformat": 4,
 "nbformat_minor": 2
}
